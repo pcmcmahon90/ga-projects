{
 "cells": [
  {
   "cell_type": "code",
   "execution_count": 1728,
   "metadata": {},
   "outputs": [],
   "source": [
    "%matplotlib inline \n",
    "import matplotlib.pyplot as plt\n",
    "import numpy as np\n",
    "import pandas as pd\n",
    "import seaborn as sns\n",
    "from sklearn.linear_model import LogisticRegression\n",
    "from sklearn.metrics import classification_report, confusion_matrix\n",
    "from sklearn.model_selection import train_test_split\n",
    "from sklearn.model_selection import cross_val_score\n",
    "from sklearn.model_selection import cross_val_predict\n",
    "from sklearn.metrics import accuracy_score, precision_score, classification_report\n",
    "from sklearn.neighbors import KNeighborsClassifier\n",
    "from sklearn.grid_search import GridSearchCV\n",
    "from sklearn.cross_validation import KFold\n",
    "from sklearn.metrics import precision_recall_curve, roc_curve, roc_auc_score, auc\n"
   ]
  },
  {
   "cell_type": "code",
   "execution_count": 1729,
   "metadata": {
    "collapsed": true
   },
   "outputs": [],
   "source": [
    "# Daily NYC weather data via wunderground.com via Central Park zip code 10106\n",
    "# Data set pulled from:\n",
    "# https://www.wunderground.com/history/airport/KNYC/2017/1/1/CustomHistory.html?dayend=31&monthend=12&yearend=2017&req_city=&req_state=&req_statename=&reqdb.zip=&reqdb.magic=&reqdb.wmo=\n",
    "# Minor cleanup performed in text editor with regex (download csv option not present)\n",
    "\n",
    "df = pd.read_csv('data/nyc_weather_2017.csv')\n",
    "df_original = df.copy() # save an original copy for comparison later"
   ]
  },
  {
   "cell_type": "markdown",
   "metadata": {},
   "source": [
    "### Describe the dataset including either an explicit data dictionary (in the case of a smaller dataset) or a link to an original data dictionary (in the case of a large dataset)"
   ]
  },
  {
   "cell_type": "code",
   "execution_count": 1730,
   "metadata": {},
   "outputs": [
    {
     "name": "stdout",
     "output_type": "stream",
     "text": [
      "<class 'pandas.core.frame.DataFrame'>\n",
      "RangeIndex: 365 entries, 0 to 364\n",
      "Data columns (total 20 columns):\n",
      "date          365 non-null object\n",
      "temp_hi       365 non-null int64\n",
      "temp_avg      365 non-null int64\n",
      "temp_lo       365 non-null int64\n",
      "dew_hi        365 non-null int64\n",
      "dew_avg       365 non-null int64\n",
      "dew_low       365 non-null int64\n",
      "hum_hi        365 non-null int64\n",
      "hum_avg       365 non-null int64\n",
      "hum_lo        365 non-null int64\n",
      "sealvl_hi     365 non-null float64\n",
      "sealvl_avg    365 non-null float64\n",
      "sealvl_lo     365 non-null float64\n",
      "visib_hi      365 non-null int64\n",
      "visib_avg     365 non-null int64\n",
      "visib_lo      365 non-null int64\n",
      "wind_hi       365 non-null int64\n",
      "wind_avg      365 non-null int64\n",
      "precip_sum    365 non-null object\n",
      "events        122 non-null object\n",
      "dtypes: float64(3), int64(14), object(3)\n",
      "memory usage: 57.1+ KB\n"
     ]
    }
   ],
   "source": [
    "# Describe data PRIOR to fixing any missing values\n",
    "df.info()"
   ]
  },
  {
   "cell_type": "markdown",
   "metadata": {},
   "source": [
    "## Data dictionary:  \n",
    "  \n",
    "date: Date of entry  \n",
    "temp_hi/avg/lo: Temperature (F)  \n",
    "dew_hi/avg/lo: Dew Point  \n",
    "hum_hi/avg/lo: Humidity  \n",
    "sealvl_hi/avg/lo: Sea Level  \n",
    "visib_hi/avg/lo: Visibility  \n",
    "wind_hi/avg: Wind (mph)  \n",
    "precip_sum: Precipitation Sum  \n",
    "events: Rain, Snow, Rain & Fog, Snow & Fog, Rain & Snow, None (describe the weather condition)"
   ]
  },
  {
   "cell_type": "markdown",
   "metadata": {},
   "source": [
    "### Explicitly frame your classification problem; what are you measuring and how are you going to understand the quality of your model?"
   ]
  },
  {
   "cell_type": "markdown",
   "metadata": {},
   "source": [
    "This is reviewing weather data for 1 year in NYC, including temperatures, dew points, humidity, sea levels, visibility, and winds. \n",
    "\n",
    "The classification exercise will be to identify precipitation events 'rain' without using the 'precip_sum' (measure of actual precipitation) column, by using all remaining data, such that 'rain' and 'snow' are identified separately. The 'events' column will be used to distinguish precipitation activity, by separating rain, snow and other events into 3 buckets. The model's accuracy can be measured against to the 'precip_sum' later if desired, but the exploratory goal is to identify if other factors attribute to rain precipitation. \n",
    "\n",
    "The question is then: \"Can we identify a given day as having precipitative activity based on relationships in temperature, dew points, humidity, sea level, visibility and winds?\" "
   ]
  },
  {
   "cell_type": "markdown",
   "metadata": {},
   "source": [
    "### Describe any data cleaning and feature manipulation prior to model implementation"
   ]
  },
  {
   "cell_type": "code",
   "execution_count": 1731,
   "metadata": {
    "scrolled": true
   },
   "outputs": [
    {
     "data": {
      "text/plain": [
       "None           243\n",
       "Rain            90\n",
       "Fog , Rain      16\n",
       "Fog , Snow       9\n",
       "Snow             5\n",
       "Rain , Snow      2\n",
       "Name: events, dtype: int64"
      ]
     },
     "execution_count": 1731,
     "metadata": {},
     "output_type": "execute_result"
    }
   ],
   "source": [
    "df['events'] = df['events'].fillna('None')\n",
    "df['events'].value_counts()"
   ]
  },
  {
   "cell_type": "code",
   "execution_count": 1732,
   "metadata": {},
   "outputs": [
    {
     "data": {
      "text/plain": [
       "None         243\n",
       "Rain         106\n",
       "Snow          14\n",
       "Rain/Snow      2\n",
       "Name: rain/snow, dtype: int64"
      ]
     },
     "execution_count": 1732,
     "metadata": {},
     "output_type": "execute_result"
    }
   ],
   "source": [
    "df['rain/snow'] = df['events'].replace(['Rain','Fog , Rain'],'Rain').replace(['Fog , Snow','Snow'],'Snow').replace(['Rain , Snow'],'Rain/Snow')\n",
    "df['rain/snow'].value_counts()"
   ]
  },
  {
   "cell_type": "code",
   "execution_count": 1733,
   "metadata": {},
   "outputs": [],
   "source": [
    "rain_snow_dummies = pd.get_dummies(df['rain/snow'],prefix = \"rainsnow\")  # .drop(['events'], axis = 1) # drop None column after getting dummies (best dummies practice)\n",
    "df = df.join(rain_snow_dummies) #join dataframes"
   ]
  },
  {
   "cell_type": "code",
   "execution_count": 1734,
   "metadata": {},
   "outputs": [
    {
     "data": {
      "text/html": [
       "<div>\n",
       "<style>\n",
       "    .dataframe thead tr:only-child th {\n",
       "        text-align: right;\n",
       "    }\n",
       "\n",
       "    .dataframe thead th {\n",
       "        text-align: left;\n",
       "    }\n",
       "\n",
       "    .dataframe tbody tr th {\n",
       "        vertical-align: top;\n",
       "    }\n",
       "</style>\n",
       "<table border=\"1\" class=\"dataframe\">\n",
       "  <thead>\n",
       "    <tr style=\"text-align: right;\">\n",
       "      <th></th>\n",
       "      <th>temp_hi</th>\n",
       "      <th>temp_avg</th>\n",
       "      <th>temp_lo</th>\n",
       "      <th>dew_hi</th>\n",
       "      <th>dew_avg</th>\n",
       "      <th>dew_low</th>\n",
       "      <th>hum_hi</th>\n",
       "      <th>hum_avg</th>\n",
       "      <th>hum_lo</th>\n",
       "      <th>sealvl_hi</th>\n",
       "      <th>sealvl_avg</th>\n",
       "      <th>sealvl_lo</th>\n",
       "      <th>visib_hi</th>\n",
       "      <th>visib_avg</th>\n",
       "      <th>visib_lo</th>\n",
       "      <th>wind_hi</th>\n",
       "      <th>wind_avg</th>\n",
       "      <th>rainsnow_Rain</th>\n",
       "      <th>rainsnow_Rain/Snow</th>\n",
       "      <th>rainsnow_Snow</th>\n",
       "    </tr>\n",
       "  </thead>\n",
       "  <tbody>\n",
       "    <tr>\n",
       "      <th>count</th>\n",
       "      <td>365.000000</td>\n",
       "      <td>365.000000</td>\n",
       "      <td>365.000000</td>\n",
       "      <td>365.000000</td>\n",
       "      <td>365.000000</td>\n",
       "      <td>365.000000</td>\n",
       "      <td>365.000000</td>\n",
       "      <td>365.000000</td>\n",
       "      <td>365.000000</td>\n",
       "      <td>365.000000</td>\n",
       "      <td>365.000000</td>\n",
       "      <td>365.000000</td>\n",
       "      <td>365.000000</td>\n",
       "      <td>365.000000</td>\n",
       "      <td>365.000000</td>\n",
       "      <td>365.000000</td>\n",
       "      <td>365.000000</td>\n",
       "      <td>365.000000</td>\n",
       "      <td>365.000000</td>\n",
       "      <td>365.000000</td>\n",
       "    </tr>\n",
       "    <tr>\n",
       "      <th>mean</th>\n",
       "      <td>63.241096</td>\n",
       "      <td>56.687671</td>\n",
       "      <td>49.594521</td>\n",
       "      <td>48.473973</td>\n",
       "      <td>42.750685</td>\n",
       "      <td>36.512329</td>\n",
       "      <td>79.846575</td>\n",
       "      <td>63.219178</td>\n",
       "      <td>46.027397</td>\n",
       "      <td>30.126247</td>\n",
       "      <td>30.017233</td>\n",
       "      <td>29.913370</td>\n",
       "      <td>9.967123</td>\n",
       "      <td>8.824658</td>\n",
       "      <td>6.536986</td>\n",
       "      <td>13.660274</td>\n",
       "      <td>5.326027</td>\n",
       "      <td>0.290411</td>\n",
       "      <td>0.005479</td>\n",
       "      <td>0.038356</td>\n",
       "    </tr>\n",
       "    <tr>\n",
       "      <th>std</th>\n",
       "      <td>17.793287</td>\n",
       "      <td>16.912866</td>\n",
       "      <td>16.387310</td>\n",
       "      <td>17.727098</td>\n",
       "      <td>18.638575</td>\n",
       "      <td>19.682312</td>\n",
       "      <td>16.277083</td>\n",
       "      <td>15.202702</td>\n",
       "      <td>16.478235</td>\n",
       "      <td>0.211796</td>\n",
       "      <td>0.225144</td>\n",
       "      <td>0.247652</td>\n",
       "      <td>0.254657</td>\n",
       "      <td>1.932073</td>\n",
       "      <td>3.810321</td>\n",
       "      <td>3.952977</td>\n",
       "      <td>2.392871</td>\n",
       "      <td>0.454575</td>\n",
       "      <td>0.073922</td>\n",
       "      <td>0.192318</td>\n",
       "    </tr>\n",
       "    <tr>\n",
       "      <th>min</th>\n",
       "      <td>18.000000</td>\n",
       "      <td>15.000000</td>\n",
       "      <td>9.000000</td>\n",
       "      <td>-1.000000</td>\n",
       "      <td>-7.000000</td>\n",
       "      <td>-14.000000</td>\n",
       "      <td>39.000000</td>\n",
       "      <td>26.000000</td>\n",
       "      <td>12.000000</td>\n",
       "      <td>29.470000</td>\n",
       "      <td>29.380000</td>\n",
       "      <td>28.920000</td>\n",
       "      <td>7.000000</td>\n",
       "      <td>3.000000</td>\n",
       "      <td>0.000000</td>\n",
       "      <td>7.000000</td>\n",
       "      <td>1.000000</td>\n",
       "      <td>0.000000</td>\n",
       "      <td>0.000000</td>\n",
       "      <td>0.000000</td>\n",
       "    </tr>\n",
       "    <tr>\n",
       "      <th>25%</th>\n",
       "      <td>49.000000</td>\n",
       "      <td>43.000000</td>\n",
       "      <td>37.000000</td>\n",
       "      <td>36.000000</td>\n",
       "      <td>30.000000</td>\n",
       "      <td>21.000000</td>\n",
       "      <td>67.000000</td>\n",
       "      <td>51.000000</td>\n",
       "      <td>33.000000</td>\n",
       "      <td>29.990000</td>\n",
       "      <td>29.890000</td>\n",
       "      <td>29.780000</td>\n",
       "      <td>10.000000</td>\n",
       "      <td>8.000000</td>\n",
       "      <td>2.000000</td>\n",
       "      <td>10.000000</td>\n",
       "      <td>4.000000</td>\n",
       "      <td>0.000000</td>\n",
       "      <td>0.000000</td>\n",
       "      <td>0.000000</td>\n",
       "    </tr>\n",
       "    <tr>\n",
       "      <th>50%</th>\n",
       "      <td>65.000000</td>\n",
       "      <td>58.000000</td>\n",
       "      <td>51.000000</td>\n",
       "      <td>51.000000</td>\n",
       "      <td>44.000000</td>\n",
       "      <td>38.000000</td>\n",
       "      <td>82.000000</td>\n",
       "      <td>63.000000</td>\n",
       "      <td>44.000000</td>\n",
       "      <td>30.100000</td>\n",
       "      <td>30.000000</td>\n",
       "      <td>29.920000</td>\n",
       "      <td>10.000000</td>\n",
       "      <td>10.000000</td>\n",
       "      <td>9.000000</td>\n",
       "      <td>13.000000</td>\n",
       "      <td>5.000000</td>\n",
       "      <td>0.000000</td>\n",
       "      <td>0.000000</td>\n",
       "      <td>0.000000</td>\n",
       "    </tr>\n",
       "    <tr>\n",
       "      <th>75%</th>\n",
       "      <td>78.000000</td>\n",
       "      <td>71.000000</td>\n",
       "      <td>64.000000</td>\n",
       "      <td>63.000000</td>\n",
       "      <td>59.000000</td>\n",
       "      <td>53.000000</td>\n",
       "      <td>93.000000</td>\n",
       "      <td>74.000000</td>\n",
       "      <td>55.000000</td>\n",
       "      <td>30.260000</td>\n",
       "      <td>30.160000</td>\n",
       "      <td>30.060000</td>\n",
       "      <td>10.000000</td>\n",
       "      <td>10.000000</td>\n",
       "      <td>10.000000</td>\n",
       "      <td>16.000000</td>\n",
       "      <td>7.000000</td>\n",
       "      <td>1.000000</td>\n",
       "      <td>0.000000</td>\n",
       "      <td>0.000000</td>\n",
       "    </tr>\n",
       "    <tr>\n",
       "      <th>max</th>\n",
       "      <td>94.000000</td>\n",
       "      <td>86.000000</td>\n",
       "      <td>79.000000</td>\n",
       "      <td>77.000000</td>\n",
       "      <td>73.000000</td>\n",
       "      <td>71.000000</td>\n",
       "      <td>100.000000</td>\n",
       "      <td>98.000000</td>\n",
       "      <td>96.000000</td>\n",
       "      <td>30.760000</td>\n",
       "      <td>30.680000</td>\n",
       "      <td>30.610000</td>\n",
       "      <td>10.000000</td>\n",
       "      <td>10.000000</td>\n",
       "      <td>10.000000</td>\n",
       "      <td>33.000000</td>\n",
       "      <td>18.000000</td>\n",
       "      <td>1.000000</td>\n",
       "      <td>1.000000</td>\n",
       "      <td>1.000000</td>\n",
       "    </tr>\n",
       "  </tbody>\n",
       "</table>\n",
       "</div>"
      ],
      "text/plain": [
       "          temp_hi    temp_avg     temp_lo      dew_hi     dew_avg     dew_low  \\\n",
       "count  365.000000  365.000000  365.000000  365.000000  365.000000  365.000000   \n",
       "mean    63.241096   56.687671   49.594521   48.473973   42.750685   36.512329   \n",
       "std     17.793287   16.912866   16.387310   17.727098   18.638575   19.682312   \n",
       "min     18.000000   15.000000    9.000000   -1.000000   -7.000000  -14.000000   \n",
       "25%     49.000000   43.000000   37.000000   36.000000   30.000000   21.000000   \n",
       "50%     65.000000   58.000000   51.000000   51.000000   44.000000   38.000000   \n",
       "75%     78.000000   71.000000   64.000000   63.000000   59.000000   53.000000   \n",
       "max     94.000000   86.000000   79.000000   77.000000   73.000000   71.000000   \n",
       "\n",
       "           hum_hi     hum_avg      hum_lo   sealvl_hi  sealvl_avg   sealvl_lo  \\\n",
       "count  365.000000  365.000000  365.000000  365.000000  365.000000  365.000000   \n",
       "mean    79.846575   63.219178   46.027397   30.126247   30.017233   29.913370   \n",
       "std     16.277083   15.202702   16.478235    0.211796    0.225144    0.247652   \n",
       "min     39.000000   26.000000   12.000000   29.470000   29.380000   28.920000   \n",
       "25%     67.000000   51.000000   33.000000   29.990000   29.890000   29.780000   \n",
       "50%     82.000000   63.000000   44.000000   30.100000   30.000000   29.920000   \n",
       "75%     93.000000   74.000000   55.000000   30.260000   30.160000   30.060000   \n",
       "max    100.000000   98.000000   96.000000   30.760000   30.680000   30.610000   \n",
       "\n",
       "         visib_hi   visib_avg    visib_lo     wind_hi    wind_avg  \\\n",
       "count  365.000000  365.000000  365.000000  365.000000  365.000000   \n",
       "mean     9.967123    8.824658    6.536986   13.660274    5.326027   \n",
       "std      0.254657    1.932073    3.810321    3.952977    2.392871   \n",
       "min      7.000000    3.000000    0.000000    7.000000    1.000000   \n",
       "25%     10.000000    8.000000    2.000000   10.000000    4.000000   \n",
       "50%     10.000000   10.000000    9.000000   13.000000    5.000000   \n",
       "75%     10.000000   10.000000   10.000000   16.000000    7.000000   \n",
       "max     10.000000   10.000000   10.000000   33.000000   18.000000   \n",
       "\n",
       "       rainsnow_Rain  rainsnow_Rain/Snow  rainsnow_Snow  \n",
       "count     365.000000          365.000000     365.000000  \n",
       "mean        0.290411            0.005479       0.038356  \n",
       "std         0.454575            0.073922       0.192318  \n",
       "min         0.000000            0.000000       0.000000  \n",
       "25%         0.000000            0.000000       0.000000  \n",
       "50%         0.000000            0.000000       0.000000  \n",
       "75%         1.000000            0.000000       0.000000  \n",
       "max         1.000000            1.000000       1.000000  "
      ]
     },
     "execution_count": 1734,
     "metadata": {},
     "output_type": "execute_result"
    }
   ],
   "source": [
    "df = df.drop(['events', 'rain/snow', 'rainsnow_None'], axis = 1) # drop old events column after getting dummies\n",
    "df['date'] = pd.to_datetime(df['date'])\n",
    "df.describe()"
   ]
  },
  {
   "cell_type": "code",
   "execution_count": null,
   "metadata": {
    "collapsed": true
   },
   "outputs": [],
   "source": []
  },
  {
   "cell_type": "code",
   "execution_count": 1735,
   "metadata": {
    "collapsed": true
   },
   "outputs": [],
   "source": [
    "#\n",
    "#\n",
    "#\n",
    "#\n",
    "#\n",
    "#\n",
    "#\n",
    "#\n",
    "#\n",
    "#"
   ]
  },
  {
   "cell_type": "code",
   "execution_count": 1736,
   "metadata": {},
   "outputs": [
    {
     "data": {
      "text/plain": [
       "rainsnow_Rain         1.000000\n",
       "visib_lo              0.627971\n",
       "hum_avg               0.573149\n",
       "hum_hi                0.531789\n",
       "hum_lo                0.526336\n",
       "visib_avg             0.467369\n",
       "dew_hi                0.329590\n",
       "dew_avg               0.326010\n",
       "sealvl_lo             0.293993\n",
       "dew_low               0.293758\n",
       "sealvl_avg            0.270758\n",
       "sealvl_hi             0.226627\n",
       "temp_lo               0.179227\n",
       "wind_hi               0.168192\n",
       "temp_avg              0.139756\n",
       "rainsnow_Snow         0.127765\n",
       "temp_hi               0.100349\n",
       "visib_hi              0.083420\n",
       "wind_avg              0.081935\n",
       "rainsnow_Rain/Snow    0.047486\n",
       "Name: rainsnow_Rain, dtype: float64"
      ]
     },
     "execution_count": 1736,
     "metadata": {},
     "output_type": "execute_result"
    }
   ],
   "source": [
    "corr = df.corr()\n",
    "corr['rainsnow_Rain'].abs().sort_values(ascending = False)"
   ]
  },
  {
   "cell_type": "code",
   "execution_count": 1737,
   "metadata": {},
   "outputs": [],
   "source": [
    "testcase = 'Rain'                                                # 'Rain', 'Snow', 'Rain/Snow'\n",
    "#X = df['precip_sum'].values.reshape(-1,1)                       # Uses precip_sum (test case only)\n",
    "#X = df.drop(['rainsnow_'+testcase,'date', 'precip_sum'], axis = 1)    # Uses all remaining columns (temp/dew/hum/sealvl/wind) besides date/y column\n",
    "X = df[['visib_lo','hum_avg','hum_hi','hum_lo','visib_avg']]     # Uses top 5 correlated variables\n",
    "y = df['rainsnow_'+testcase]                                     # Measured against testcase"
   ]
  },
  {
   "cell_type": "markdown",
   "metadata": {},
   "source": [
    "### Describe any parameter tuning or normalization that took place"
   ]
  },
  {
   "cell_type": "markdown",
   "metadata": {},
   "source": [
    "Split data set, instatiate a regression, then fit/find initial predictions"
   ]
  },
  {
   "cell_type": "markdown",
   "metadata": {},
   "source": [
    "## Instatiate logistic regression, split data set, initial results:"
   ]
  },
  {
   "cell_type": "code",
   "execution_count": 1738,
   "metadata": {
    "collapsed": true
   },
   "outputs": [],
   "source": [
    "X_train, X_test, y_train, y_test = train_test_split(X, y)"
   ]
  },
  {
   "cell_type": "code",
   "execution_count": 1739,
   "metadata": {},
   "outputs": [
    {
     "data": {
      "text/plain": [
       "LogisticRegression(C=1.0, class_weight=None, dual=False, fit_intercept=True,\n",
       "          intercept_scaling=1, max_iter=100, multi_class='ovr', n_jobs=1,\n",
       "          penalty='l2', random_state=None, solver='liblinear', tol=0.0001,\n",
       "          verbose=0, warm_start=False)"
      ]
     },
     "execution_count": 1739,
     "metadata": {},
     "output_type": "execute_result"
    }
   ],
   "source": [
    "lr = LogisticRegression()\n",
    "lr.fit(X_train, y_train)"
   ]
  },
  {
   "cell_type": "code",
   "execution_count": 1740,
   "metadata": {
    "scrolled": true
   },
   "outputs": [
    {
     "data": {
      "text/plain": [
       "0.8351648351648352"
      ]
     },
     "execution_count": 1740,
     "metadata": {},
     "output_type": "execute_result"
    }
   ],
   "source": [
    "lr.score(X_train,y_train)"
   ]
  },
  {
   "cell_type": "code",
   "execution_count": 1741,
   "metadata": {},
   "outputs": [
    {
     "name": "stdout",
     "output_type": "stream",
     "text": [
      "             precision    recall  f1-score   support\n",
      "\n",
      "          0       0.89      0.88      0.88       193\n",
      "          1       0.71      0.74      0.72        80\n",
      "\n",
      "avg / total       0.84      0.84      0.84       273\n",
      "\n"
     ]
    }
   ],
   "source": [
    "predictions = lr.predict(X_train)\n",
    "print(classification_report(y_train, predictions))"
   ]
  },
  {
   "cell_type": "markdown",
   "metadata": {},
   "source": [
    "## Use cross validation:"
   ]
  },
  {
   "cell_type": "markdown",
   "metadata": {},
   "source": [
    "### Be sure to use cross-validation in training"
   ]
  },
  {
   "cell_type": "markdown",
   "metadata": {},
   "source": [
    "Introduce cross validation on cv = 10."
   ]
  },
  {
   "cell_type": "code",
   "execution_count": 1742,
   "metadata": {},
   "outputs": [
    {
     "data": {
      "text/plain": [
       "array([ 0.78571429,  0.82142857,  0.82142857,  0.85185185,  0.77777778,\n",
       "        0.77777778,  0.92592593,  0.81481481,  0.85185185,  0.88888889])"
      ]
     },
     "execution_count": 1742,
     "metadata": {},
     "output_type": "execute_result"
    }
   ],
   "source": [
    "cross_val_score(lr, X_train, y_train, cv = 10)"
   ]
  },
  {
   "cell_type": "code",
   "execution_count": 1743,
   "metadata": {},
   "outputs": [
    {
     "data": {
      "text/plain": [
       "array([[168,  25],\n",
       "       [ 21,  59]], dtype=int64)"
      ]
     },
     "execution_count": 1743,
     "metadata": {},
     "output_type": "execute_result"
    }
   ],
   "source": [
    "predictions_cv = cross_val_predict(lr, X_train,y_train,cv = 10)\n",
    "confusion_matrix(y_train, predictions_cv)"
   ]
  },
  {
   "cell_type": "markdown",
   "metadata": {},
   "source": [
    "Here the top left identified correctly identified non-rain days. The bottom right shows correctly identified rain days. Top right and bottom left are errors (non-rain days identified as rain days, and rain days identified as non-rain days)."
   ]
  },
  {
   "cell_type": "code",
   "execution_count": 1744,
   "metadata": {
    "scrolled": true
   },
   "outputs": [
    {
     "data": {
      "text/plain": [
       "0.83150183150183155"
      ]
     },
     "execution_count": 1744,
     "metadata": {},
     "output_type": "execute_result"
    }
   ],
   "source": [
    "accuracy_score(predictions_cv, y_train)"
   ]
  },
  {
   "cell_type": "code",
   "execution_count": 1745,
   "metadata": {},
   "outputs": [
    {
     "name": "stdout",
     "output_type": "stream",
     "text": [
      "             precision    recall  f1-score   support\n",
      "\n",
      "          0       0.87      0.89      0.88       189\n",
      "          1       0.74      0.70      0.72        84\n",
      "\n",
      "avg / total       0.83      0.83      0.83       273\n",
      "\n"
     ]
    }
   ],
   "source": [
    "print(classification_report(predictions_cv, y_train))"
   ]
  },
  {
   "cell_type": "markdown",
   "metadata": {},
   "source": [
    "Homework doesn't ask to use KNN neighbors or grid search, but maybe it should be done here? \n",
    "- This is done in abstract, and appears to not significantly change the above output for accuracy score. So the below test set results don't use (but could, I guess)."
   ]
  },
  {
   "cell_type": "markdown",
   "metadata": {},
   "source": [
    "## KNN Neighbors"
   ]
  },
  {
   "cell_type": "code",
   "execution_count": 1746,
   "metadata": {},
   "outputs": [
    {
     "data": {
      "text/plain": [
       "GridSearchCV(cv=5, error_score='raise',\n",
       "       estimator=KNeighborsClassifier(algorithm='auto', leaf_size=30, metric='minkowski',\n",
       "           metric_params=None, n_jobs=1, n_neighbors=5, p=2,\n",
       "           weights='uniform'),\n",
       "       fit_params={}, iid=True, n_jobs=1,\n",
       "       param_grid=[{'n_neighbors': [2, 4, 6, 8]}], pre_dispatch='2*n_jobs',\n",
       "       refit=True, scoring=None, verbose=0)"
      ]
     },
     "execution_count": 1746,
     "metadata": {},
     "output_type": "execute_result"
    }
   ],
   "source": [
    "knn = KNeighborsClassifier()\n",
    "\n",
    "k = [i for i in range(2, 10, 2)]\n",
    "params = [{'n_neighbors': k }]\n",
    "grid_search = GridSearchCV(knn, params, cv = 5)\n",
    "grid_search.fit(X, y)"
   ]
  },
  {
   "cell_type": "code",
   "execution_count": 1747,
   "metadata": {},
   "outputs": [
    {
     "data": {
      "text/plain": [
       "KNeighborsClassifier(algorithm='auto', leaf_size=30, metric='minkowski',\n",
       "           metric_params=None, n_jobs=1, n_neighbors=6, p=2,\n",
       "           weights='uniform')"
      ]
     },
     "execution_count": 1747,
     "metadata": {},
     "output_type": "execute_result"
    }
   ],
   "source": [
    "grid_search.best_estimator_"
   ]
  },
  {
   "cell_type": "code",
   "execution_count": 1748,
   "metadata": {},
   "outputs": [
    {
     "data": {
      "text/plain": [
       "0.84657534246575339"
      ]
     },
     "execution_count": 1748,
     "metadata": {},
     "output_type": "execute_result"
    }
   ],
   "source": [
    "grid_search.score(X, y)"
   ]
  },
  {
   "cell_type": "markdown",
   "metadata": {},
   "source": [
    "### Discuss results on test set"
   ]
  },
  {
   "cell_type": "markdown",
   "metadata": {},
   "source": [
    "### Describe Accuracy, Precision, Recall, and F1 score of your model"
   ]
  },
  {
   "cell_type": "markdown",
   "metadata": {},
   "source": [
    "PM: Giving the feedback that I don't think we've once, in class, gone over formally 'discussing the results on a test set'. It's always the concept of \"Don't touch the test set!!\" but to my knowledge we haven't actually done before/after train/test analysis. We just use the train set and that's it. Possible I missed it at the end of a class, but it certainly doesn't seem like it's been a focus.\n",
    "\n",
    "With that being said, the below is just a guess of how to plug in."
   ]
  },
  {
   "cell_type": "code",
   "execution_count": 1749,
   "metadata": {
    "scrolled": true
   },
   "outputs": [
    {
     "data": {
      "text/plain": [
       "0.86956521739130432"
      ]
     },
     "execution_count": 1749,
     "metadata": {},
     "output_type": "execute_result"
    }
   ],
   "source": [
    "predictions_cv_test = cross_val_predict(lr, X_test,y_test,cv = 10)\n",
    "accuracy_score(predictions_cv_test, y_test)"
   ]
  },
  {
   "cell_type": "code",
   "execution_count": 1750,
   "metadata": {},
   "outputs": [
    {
     "name": "stdout",
     "output_type": "stream",
     "text": [
      "             precision    recall  f1-score   support\n",
      "\n",
      "          0       0.91      0.91      0.91        66\n",
      "          1       0.77      0.77      0.77        26\n",
      "\n",
      "avg / total       0.87      0.87      0.87        92\n",
      "\n"
     ]
    }
   ],
   "source": [
    "print(classification_report(predictions_cv_test, y_test))"
   ]
  },
  {
   "cell_type": "raw",
   "metadata": {},
   "source": [
    "Anecdotally, performance was lower on the test set than the train set after refreshing a few times and comparing the train to test scores. The model is better at classifying non-rain days than rain-days, primarily using visibility and humidity for the model."
   ]
  },
  {
   "cell_type": "markdown",
   "metadata": {},
   "source": [
    "### Plot and interpret the following:\n",
    "* Precision and Recall curves together (thresholds vs. probability)\n",
    "* Precision vs. Recall\n",
    "* ROC curve"
   ]
  },
  {
   "cell_type": "code",
   "execution_count": 1755,
   "metadata": {},
   "outputs": [],
   "source": [
    "precision, recall, thresholds = precision_recall_curve(y_test, predictions_cv_test)"
   ]
  },
  {
   "cell_type": "code",
   "execution_count": 1756,
   "metadata": {
    "scrolled": true
   },
   "outputs": [
    {
     "data": {
      "text/plain": [
       "Text(0.5,1,'Precision vs. Recall')"
      ]
     },
     "execution_count": 1756,
     "metadata": {},
     "output_type": "execute_result"
    },
    {
     "data": {
      "image/png": "[encoded data removed]",
      "text/plain": [
       "<matplotlib.figure.Figure at 0x3a35b320>"
      ]
     },
     "metadata": {},
     "output_type": "display_data"
    }
   ],
   "source": [
    "plt.plot(precision, recall)\n",
    "plt.title(\"Precision vs. Recall\")"
   ]
  },
  {
   "cell_type": "code",
   "execution_count": 1757,
   "metadata": {},
   "outputs": [
    {
     "data": {
      "text/plain": [
       "[<matplotlib.lines.Line2D at 0x3a612d30>]"
      ]
     },
     "execution_count": 1757,
     "metadata": {},
     "output_type": "execute_result"
    },
    {
     "data": {
      "image/png": "[encoded data removed]",
      "text/plain": [
       "<matplotlib.figure.Figure at 0x3a31ff60>"
      ]
     },
     "metadata": {},
     "output_type": "display_data"
    }
   ],
   "source": [
    "y_score_lr = lr.fit(X_train, y_train).decision_function(X_test)\n",
    "fpr_lr, tpr_lr, _ = roc_curve(y_test, y_score_lr)\n",
    "roc_auc_lr = auc(fpr_lr, tpr_lr)\n",
    "\n",
    "plt.figure(figsize = (5, 5))\n",
    "plt.xlim([-0.01, 1.00])\n",
    "plt.ylim([-0.01, 1.01])\n",
    "plt.plot(fpr_lr, tpr_lr, lw=3, label='LogRegr ROC curve (area = {:0.2f})'.format(roc_auc_lr))\n",
    "plt.xlabel('False Positive Rate', fontsize=12)\n",
    "plt.ylabel('True Positive Rate', fontsize=12)\n",
    "plt.title('ROC curve (Weather Data)', fontsize=12)\n",
    "plt.legend(loc='lower right', fontsize=10)\n",
    "plt.plot([0, 1], [0, 1], color='navy', lw=3, linestyle='--')"
   ]
  },
  {
   "cell_type": "markdown",
   "metadata": {
    "collapsed": true
   },
   "source": [
    "For personal feedback, some overall explanation and context would be helpful. I understand each of these major concepts in silos. But when presented a dataset and told \"do X to do the analysis\" I struggle with understand what steps to do things in, and why I should do them. Why should I use KNN neighbors? Why should I use a standard scaler (I didn't here - should I have?) Does it really value this particular analysis to maximize precision, recall, or f1-score? \n",
    "\n",
    "Perhaps most importantly, what can I reasonably do to influence precision/recall/f1-score outside of changing the variables used for the X set? I'm looking at that precision vs. recall curve above. It's not great - the area above the curve is pretty high. But what do I do? Can I do anything? Do you analyze that it's a roughly correlated data set or do you try tweaking things? And if you do tweak things, what/why?"
   ]
  },
  {
   "cell_type": "code",
   "execution_count": null,
   "metadata": {
    "collapsed": true
   },
   "outputs": [],
   "source": []
  }
 ],
 "metadata": {
  "kernelspec": {
   "display_name": "Python 3",
   "language": "python",
   "name": "python3"
  },
  "language_info": {
   "codemirror_mode": {
    "name": "ipython",
    "version": 3
   },
   "file_extension": ".py",
   "mimetype": "text/x-python",
   "name": "python",
   "nbconvert_exporter": "python",
   "pygments_lexer": "ipython3",
   "version": "3.6.3"
  }
 },
 "nbformat": 4,
 "nbformat_minor": 2
}
